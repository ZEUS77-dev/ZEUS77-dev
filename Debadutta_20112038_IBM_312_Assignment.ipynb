{
  "cells": [
    {
      "cell_type": "markdown",
      "metadata": {
        "id": "view-in-github",
        "colab_type": "text"
      },
      "source": [
        "<a href=\"https://colab.research.google.com/github/ZEUS77-dev/ZEUS77-dev/blob/main/Debadutta_20112038_IBM_312_Assignment.ipynb\" target=\"_parent\"><img src=\"https://colab.research.google.com/assets/colab-badge.svg\" alt=\"Open In Colab\"/></a>"
      ]
    },
    {
      "cell_type": "markdown",
      "source": [
        "**IBM - 312 ASSIGNMENT 1**"
      ],
      "metadata": {
        "id": "rbbMlQtJ4ww2"
      }
    },
    {
      "cell_type": "markdown",
      "source": [
        "\n",
        "You can make use of binom.pmf(), binom.cdf(), poisson.pmf(), poisson.cdf(), norm.pmf(), norm.cdf(), uniform.pmf(), uniform.cdf functions to calculate probabilities."
      ],
      "metadata": {
        "id": "yNuB2RWa497a"
      }
    },
    {
      "cell_type": "code",
      "source": [
        "import numpy as np\n",
        "import pandas as pd\n",
        "from scipy.stats import binom\n",
        "from scipy.stats import poisson\n",
        "from scipy.stats import uniform\n",
        "from scipy.stats import norm\n",
        "import matplotlib.pyplot as plt\n",
        "import seaborn as sns"
      ],
      "outputs": [],
      "execution_count": 68,
      "metadata": {
        "id": "pW5lAvRc5bIS"
      }
    },
    {
      "cell_type": "markdown",
      "source": [
        "Q1. Create the following 1-D and 2-D arrays using numpy: \n",
        "\n",
        "a.) \n",
        "\n",
        "[1 2 3 4 5]\n",
        "\n",
        "b.)\n",
        "\n",
        "[[1. 2. 3. 4.]\n",
        "\n",
        " [5. 6. 7. 8.]\n",
        "\n",
        "[2. 1. 3. 5.]]"
      ],
      "metadata": {
        "id": "Wqm2feqMmfjn"
      }
    },
    {
      "cell_type": "code",
      "source": [
        "a=np.array([1,2,3,4,5]);\n",
        "b=np.array([[1.0,2.0,3.0,4.0],[5.0,6.0,7.0,8.0],[2.0,1.0,3.0,5.0]],dtype=float);\n",
        "print('a.)',a);\n",
        "print('b.)',b);\n"
      ],
      "outputs": [
        {
          "output_type": "stream",
          "name": "stdout",
          "text": [
            "a.) [1 2 3 4 5]\n",
            "b.) [[1. 2. 3. 4.]\n",
            " [5. 6. 7. 8.]\n",
            " [2. 1. 3. 5.]]\n"
          ]
        }
      ],
      "execution_count": 69,
      "metadata": {
        "id": "4N0uTFBDmfKb",
        "colab": {
          "base_uri": "https://localhost:8080/"
        },
        "outputId": "67d0b6d0-b771-4f5f-d83a-1f4965f47734"
      }
    },
    {
      "cell_type": "markdown",
      "source": [
        "Q2. Create a series from the following numpy array using pandas library.\n",
        "\n",
        "['a', 'b', 'c', 'd', 'e']"
      ],
      "metadata": {
        "id": "_mCPac0hoCzE"
      }
    },
    {
      "cell_type": "code",
      "source": [
        "v=np.array(['a','b','c','d','e']);\n",
        "ans=pd.Series(v);\n",
        "print(ans);"
      ],
      "outputs": [
        {
          "output_type": "stream",
          "name": "stdout",
          "text": [
            "0    a\n",
            "1    b\n",
            "2    c\n",
            "3    d\n",
            "4    e\n",
            "dtype: object\n"
          ]
        }
      ],
      "execution_count": 70,
      "metadata": {
        "id": "a7clLntUoygd",
        "colab": {
          "base_uri": "https://localhost:8080/"
        },
        "outputId": "2a7374ee-d006-40c3-837f-06a0023b0543"
      }
    },
    {
      "cell_type": "markdown",
      "source": [
        "Q3. A census found that 60% of all whey protein consumers were very satisfied with their protein diet. Suppose that 28 whey protein consumers are sampled and if survey result still holds true today, what is the probability that exactly 20 are very satisfied with their whey protein diet?"
      ],
      "metadata": {
        "id": "jrz6wwFKu04O"
      }
    },
    {
      "cell_type": "code",
      "source": [
        "ans=binom.pmf(20,28,0.6);\n",
        "print(ans)"
      ],
      "outputs": [
        {
          "output_type": "stream",
          "name": "stdout",
          "text": [
            "0.07447330375828719\n"
          ]
        }
      ],
      "execution_count": 71,
      "metadata": {
        "id": "0o9Q06FlppvY",
        "colab": {
          "base_uri": "https://localhost:8080/"
        },
        "outputId": "97ad06bc-7796-4cf6-dab1-d872a614e5ba"
      }
    },
    {
      "cell_type": "markdown",
      "source": [
        "Q4. In Jaunpur, Uttar Pradesh, there are about 22% of all workers who are unemployed, per the census. What is the probability that a sample of 20 people in a random telephone poll in Jaunpur would contain three or fewer unemployed people?"
      ],
      "metadata": {
        "id": "epYZrSb8vDH7"
      }
    },
    {
      "cell_type": "code",
      "source": [
        "ans=(binom.pmf(3,20,0.22)+binom.pmf(2,20,0.22)+binom.pmf(1,20,0.22)+binom.pmf(0,20,0.22));\n",
        "print(ans)"
      ],
      "outputs": [
        {
          "output_type": "stream",
          "name": "stdout",
          "text": [
            "0.3289108258756767\n"
          ]
        }
      ],
      "execution_count": 72,
      "metadata": {
        "id": "qvExuYCjprhH",
        "colab": {
          "base_uri": "https://localhost:8080/"
        },
        "outputId": "110d11de-3766-4035-b30e-a7f4d6a9001d"
      }
    },
    {
      "cell_type": "markdown",
      "source": [
        "Q5. Suppose bank customers arrive randomly on weekday afternoons at an average of 3.2 customers every 4 minutes. What is the probability of exactly six customers arriving in a 4-minute interval on a weekday afternoon?"
      ],
      "metadata": {
        "id": "eKXX4RJXwGew"
      }
    },
    {
      "cell_type": "code",
      "source": [
        "ans=(poisson.pmf(6,3.2));\n",
        "print(ans)"
      ],
      "outputs": [
        {
          "output_type": "stream",
          "name": "stdout",
          "text": [
            "0.06078900451387633\n"
          ]
        }
      ],
      "execution_count": 73,
      "metadata": {
        "id": "L60oAqPnpt82",
        "colab": {
          "base_uri": "https://localhost:8080/"
        },
        "outputId": "db5716dc-c89d-4729-f9f8-94a7340cc760"
      }
    },
    {
      "cell_type": "markdown",
      "source": [
        "Q6. Bank customers arrive randomly on weekday afternoons at an average of 3.2 customers every 4 minutes. What is the probability of having more than 8 customers in a 4-minute interval on a weekday afternoon?"
      ],
      "metadata": {
        "id": "9cObLY7swJKS"
      }
    },
    {
      "cell_type": "code",
      "source": [
        "ans=(1-poisson.cdf(8,3.2));\n",
        "print(ans)"
      ],
      "outputs": [
        {
          "output_type": "stream",
          "name": "stdout",
          "text": [
            "0.005714138066420182\n"
          ]
        }
      ],
      "execution_count": 74,
      "metadata": {
        "id": "qrpmYAgZpv-2",
        "colab": {
          "base_uri": "https://localhost:8080/"
        },
        "outputId": "b6d0f99f-d245-4a2a-9dec-f2117a3ac255"
      }
    },
    {
      "cell_type": "markdown",
      "source": [
        "Q7. The amount of time it takes to pack a biscuit ranges from 26 to 38 seconds and that packing times are uniformly distributed. Describe the distribution. What is the probability that a given packaging will take between 30 and 35 seconds?"
      ],
      "metadata": {
        "id": "CmssSdBUwQee"
      }
    },
    {
      "cell_type": "code",
      "source": [
        "#Observation:- uniform with 1/12 probability for each second distributed b/w 26 & 38 \n",
        "ans=(1/12)*(35-30);\n",
        "print(ans)"
      ],
      "outputs": [
        {
          "output_type": "stream",
          "name": "stdout",
          "text": [
            "0.41666666666666663\n"
          ]
        }
      ],
      "execution_count": 84,
      "metadata": {
        "id": "NAdhHcC4pyQA",
        "colab": {
          "base_uri": "https://localhost:8080/"
        },
        "outputId": "c09f39cf-d41e-43b0-c3a4-ebcc59c1a53c"
      }
    },
    {
      "cell_type": "markdown",
      "source": [
        "Q8. What is the probability of obtaining a score greater than 650 on a GATE examination that has a mean of 460 and a standard deviation of 100? Assume GATE scores are normally distributed."
      ],
      "metadata": {
        "id": "_LfbMj-7wqVu"
      }
    },
    {
      "cell_type": "code",
      "source": [
        "ans=(1-norm.cdf(650,460,100));\n",
        "print(ans)"
      ],
      "outputs": [
        {
          "output_type": "stream",
          "name": "stdout",
          "text": [
            "0.028716559816001852\n"
          ]
        }
      ],
      "execution_count": 76,
      "metadata": {
        "id": "3LUBV5Jzp1AJ",
        "colab": {
          "base_uri": "https://localhost:8080/"
        },
        "outputId": "15c0e4de-bf02-4da3-beaf-5d074f953a30"
      }
    },
    {
      "cell_type": "markdown",
      "source": [
        "Q9. What is the probability of randomly obtaining a score between 400 and 600 on the GATE examination?"
      ],
      "metadata": {
        "id": "lw3ugqqhxJfh"
      }
    },
    {
      "cell_type": "code",
      "source": [
        "ans=(norm.cdf(600,460,100)-norm.cdf(400,460,100));\n",
        "print(ans)"
      ],
      "outputs": [
        {
          "output_type": "stream",
          "name": "stdout",
          "text": [
            "0.6449902230161553\n"
          ]
        }
      ],
      "execution_count": 77,
      "metadata": {
        "id": "otBxQuXhp2fo",
        "colab": {
          "base_uri": "https://localhost:8080/"
        },
        "outputId": "6c0f8604-6623-4107-a7a3-e4e0f3a028e5"
      }
    },
    {
      "cell_type": "markdown",
      "source": [
        "Central Limit Theorem"
      ],
      "metadata": {
        "id": "byIa7fk52-Bu"
      }
    },
    {
      "cell_type": "markdown",
      "source": [
        "Q10. Create a list to store average and repeat experiment 100 times. Generate a random array of 10 values with values between 0 and 1 and then calculate average of random sample. Plot it along with average of the distribution.\n"
      ],
      "metadata": {
        "id": "weolS4ZG3DGq"
      }
    },
    {
      "cell_type": "code",
      "source": [
        "avg=[]\n",
        "for i in range(100):\n",
        "    dist=np.random.uniform(0,1,10)\n",
        "    mean=np.average(dist)\n",
        "    avg.append(mean)\n",
        "\n",
        "sns.histplot(data=avg);"
      ],
      "outputs": [
        {
          "output_type": "display_data",
          "data": {
            "text/plain": [
              "<Figure size 432x288 with 1 Axes>"
            ],
            "image/png": "[encoded data removed]"
          },
          "metadata": {
            "needs_background": "light"
          }
        }
      ],
      "execution_count": 78,
      "metadata": {
        "id": "rWg2MWWqp6Lf",
        "colab": {
          "base_uri": "https://localhost:8080/",
          "height": 265
        },
        "outputId": "f6af5474-a8e2-4020-ddbe-32c227029fbe"
      }
    },
    {
      "cell_type": "markdown",
      "source": [
        "  Q11. Repeat this experiment with 1000 and 10000 samples."
      ],
      "metadata": {
        "id": "771rW3Jp4JUl"
      }
    },
    {
      "cell_type": "code",
      "source": [
        "avg=[]\n",
        "for i in range(1000):\n",
        "    dist=np.random.uniform(0,1,10)\n",
        "    mean=np.average(dist)\n",
        "    avg.append(mean)\n",
        "\n",
        "sns.histplot(data=avg);"
      ],
      "outputs": [
        {
          "output_type": "display_data",
          "data": {
            "text/plain": [
              "<Figure size 432x288 with 1 Axes>"
            ],
            "image/png": "[encoded data removed]"
          },
          "metadata": {
            "needs_background": "light"
          }
        }
      ],
      "execution_count": 79,
      "metadata": {
        "id": "9CNMQ338p732",
        "colab": {
          "base_uri": "https://localhost:8080/",
          "height": 265
        },
        "outputId": "24bb50b6-d537-4a9b-ebc8-d74fb4526369"
      }
    },
    {
      "cell_type": "code",
      "source": [
        "avg=[]\n",
        "for i in range(10000):\n",
        "    dist=np.random.uniform(0,1,10)\n",
        "    mean=np.average(dist)\n",
        "    avg.append(mean)\n",
        "\n",
        "sns.histplot(data=avg);"
      ],
      "metadata": {
        "colab": {
          "base_uri": "https://localhost:8080/",
          "height": 265
        },
        "id": "OaRtQ5Rvzev7",
        "outputId": "bec1d4cb-e131-428a-d89d-63bcd5f13a47"
      },
      "execution_count": 80,
      "outputs": [
        {
          "output_type": "display_data",
          "data": {
            "text/plain": [
              "<Figure size 432x288 with 1 Axes>"
            ],
            "image/png": "[encoded data removed]"
          },
          "metadata": {
            "needs_background": "light"
          }
        }
      ]
    },
    {
      "cell_type": "markdown",
      "source": [
        "Q.12 Simulate 100 Poisson Random variables with mean = 20+last digit of your roll number. Take the average of these random variables. Repeat the experiment 100000 times, everytime noting down the average.Draw a histogram of the 100000 averages that are stored with you."
      ],
      "metadata": {
        "id": "FAjIaaJPJCWa"
      }
    },
    {
      "cell_type": "code",
      "source": [
        "#20112038 => mean=20+8 = 28\n",
        "mean=28\n",
        "avg=[]\n",
        "for i in range(100000):\n",
        "    x=poisson.rvs(mean,size=100)\n",
        "    avg.append(np.average(x))\n",
        "\n",
        "sns.histplot(data=avg,bins=60);"
      ],
      "outputs": [
        {
          "output_type": "display_data",
          "data": {
            "text/plain": [
              "<Figure size 432x288 with 1 Axes>"
            ],
            "image/png": "[encoded data removed]"
          },
          "metadata": {
            "needs_background": "light"
          }
        }
      ],
      "execution_count": 81,
      "metadata": {
        "id": "v3NraxcIp99X",
        "colab": {
          "base_uri": "https://localhost:8080/",
          "height": 265
        },
        "outputId": "d22b0ccd-7855-4c73-adfd-9623994a909d"
      }
    },
    {
      "cell_type": "markdown",
      "source": [
        "Q13. Generate 100 uniform random variables between 50 to 100. Take the average of these random variables. Repeat the experiment 1000 times, everytime noting down the average. Check if the distribution of mean is close to normal distribution\n",
        "by checking the proportion of values between \"mu - sigma\" to \"mu + 2 sigma\". You will also need to compute the proportion of values that are there between \"mu - sigma\" to \"mu + 2 sigma\" for a normal distribution.\n",
        "\n"
      ],
      "metadata": {
        "id": "ClmBHNRJi903"
      }
    },
    {
      "cell_type": "code",
      "source": [
        "avg=[]\n",
        "count=0\n",
        "for i in range(1000):\n",
        "    rvs=uniform.rvs(50,50,size=100)\n",
        "    mean=np.average(rvs)\n",
        "    avg.append(mean)\n",
        "\n",
        "mu=np.average(avg)\n",
        "sigma=np.std(avg)\n",
        "\n",
        "for i in range(0,1000):\n",
        "    if avg[i]>=(mu-sigma) and avg[i]<=(mu+2*sigma):\n",
        "        count+=1\n",
        "\n",
        "frac=(count/1000)\n",
        "p1=1-norm.sf(1)\n",
        "p2=norm.sf(2)\n",
        "k=p1-p2\n",
        "print(\"Fraction acc. to actual distribution  =\",frac)\n",
        "print(\"Fraction assuming normal distribution =\",k)"
      ],
      "outputs": [
        {
          "output_type": "stream",
          "name": "stdout",
          "text": [
            "Fraction acc. to actual distribution  = 0.826\n",
            "Fraction assuming normal distribution = 0.8185946141203637\n"
          ]
        }
      ],
      "execution_count": 90,
      "metadata": {
        "id": "YvRTL4GUpeTk",
        "colab": {
          "base_uri": "https://localhost:8080/"
        },
        "outputId": "049faf6b-25a9-48e0-e5e4-6e863477a37e"
      }
    },
    {
      "cell_type": "markdown",
      "source": [
        "Q14. Generate 10000 values from Normal distribution with mean = 100, variance = 25. Make a box plot of these values."
      ],
      "metadata": {
        "id": "MKMgBWRBkL-J"
      }
    },
    {
      "cell_type": "code",
      "source": [
        "ans=norm.rvs(100,5,size=1000)\n",
        "sns.boxplot(data=ans);"
      ],
      "outputs": [
        {
          "output_type": "display_data",
          "data": {
            "text/plain": [
              "<Figure size 432x288 with 1 Axes>"
            ],
            "image/png": "[encoded data removed]"
          },
          "metadata": {
            "needs_background": "light"
          }
        }
      ],
      "execution_count": 92,
      "metadata": {
        "id": "zGbwv4I0kLBV",
        "colab": {
          "base_uri": "https://localhost:8080/",
          "height": 269
        },
        "outputId": "a9e993fa-aad1-4f28-dd09-7200c5be18c0"
      }
    }
  ],
  "metadata": {
    "colab": {
      "provenance": [],
      "include_colab_link": true
    },
    "kernelspec": {
      "name": "python3",
      "display_name": "Python 3"
    },
    "language_info": {
      "name": "python"
    },
    "nteract": {
      "version": "nteract-front-end@1.0.0"
    }
  },
  "nbformat": 4,
  "nbformat_minor": 0
}